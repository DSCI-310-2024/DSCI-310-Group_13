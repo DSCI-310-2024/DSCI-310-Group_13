{
 "cells": [
  {
   "cell_type": "markdown",
   "metadata": {},
   "source": [
    "#Title:DSCI 310 Group Project: Laptop Price Predictor Model"
   ]
  },
  {
   "cell_type": "markdown",
   "metadata": {},
   "source": [
    "##Summary\n"
   ]
  },
  {
   "cell_type": "code",
   "execution_count": null,
   "metadata": {
    "vscode": {
     "languageId": "plaintext"
    }
   },
   "outputs": [],
   "source": [
    "Our project aims to answer the question \"How can we predict determinants of the laptop market price?\". We used publically available Kaggle dataset \"Laptop Dataset (2024)\". We performed a robust data analysis in Python, spanning from importing data to sharing insights, prioritizing the creation of workflows that are both replicable and reliable. We used classification machine learning method to construct our predictive model. Our results are that the price can be predicted by determinaning its (...)."
   ]
  },
  {
   "cell_type": "markdown",
   "metadata": {},
   "source": [
    "##Introduction"
   ]
  },
  {
   "cell_type": "code",
   "execution_count": null,
   "metadata": {
    "vscode": {
     "languageId": "plaintext"
    }
   },
   "outputs": [],
   "source": [
    "provide some relevant background information on the topic so that someone unfamiliar with it will be prepared to understand the rest of your report\n",
    "clearly state the question you tried to answer with your project\n",
    "identify and describe the dataset that was used to answer the question"
   ]
  },
  {
   "cell_type": "markdown",
   "metadata": {},
   "source": [
    "##Methods & Results:"
   ]
  },
  {
   "cell_type": "code",
   "execution_count": null,
   "metadata": {
    "vscode": {
     "languageId": "plaintext"
    }
   },
   "outputs": [],
   "source": [
    "describe in written english the methods you used to perform your analysis from beginning to end that narrates the code the does the analysis.\n",
    "your report should include code which:\n",
    "loads data from the original source on the web\n",
    "wrangles and cleans the data from it’s original (downloaded) format to the format necessary for the planned classification or clustering analysis\n",
    "performs a summary of the data set that is relevant for exploratory data analysis related to the planned classification analysis\n",
    "creates a visualization of the dataset that is relevant for exploratory data analysis related to the planned classification analysis\n",
    "performs classification or regression analysis\n",
    "creates a visualization of the result of the analysis\n",
    "note: all tables and figure should have a figure/table number and a legend"
   ]
  },
  {
   "cell_type": "code",
   "execution_count": null,
   "metadata": {
    "vscode": {
     "languageId": "plaintext"
    }
   },
   "outputs": [],
   "source": []
  },
  {
   "cell_type": "markdown",
   "metadata": {},
   "source": [
    "##Discussion:"
   ]
  },
  {
   "cell_type": "code",
   "execution_count": null,
   "metadata": {
    "vscode": {
     "languageId": "plaintext"
    }
   },
   "outputs": [],
   "source": [
    "summarize what you found\n",
    "discuss whether this is what you expected to find?\n",
    "discuss what impact could such findings have?\n",
    "discuss what future questions could this lead to?"
   ]
  },
  {
   "cell_type": "markdown",
   "metadata": {},
   "source": [
    "##References:"
   ]
  },
  {
   "cell_type": "markdown",
   "metadata": {},
   "source": [
    "at least 4 citations relevant to the project (format is your choose, just be consistent across the references)."
   ]
  }
 ],
 "metadata": {
  "language_info": {
   "name": "python"
  }
 },
 "nbformat": 4,
 "nbformat_minor": 2
}
