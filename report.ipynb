{
 "cells": [
  {
   "cell_type": "markdown",
   "metadata": {},
   "source": [
    "# Title:DSCI 310 Group Project: Laptop Price Predictor Model"
   ]
  },
  {
   "cell_type": "markdown",
   "metadata": {},
   "source": [
    "## Summary\n"
   ]
  },
  {
   "cell_type": "markdown",
   "metadata": {
    "vscode": {
     "languageId": "plaintext"
    }
   },
   "source": [
    "Our project aims to answer the question \"How can we predict determinants of the laptop market price?\". We used publically available [Laptop Dataset(2024)](https://www.kaggle.com/datasets/aniket1505/laptop-dataset-2023). \n",
    "We performed a robust data analysis in Python, spanning from importing data to sharing insights, prioritizing the creation of workflows that are both replicable and reliable. \n",
    "We used the KNN regression method to construct our predictive model. \n",
    "Our results are that the price can be predicted by determinaning its (...)."
   ]
  },
  {
   "cell_type": "markdown",
   "metadata": {},
   "source": [
    "## Introduction"
   ]
  },
  {
   "cell_type": "markdown",
   "metadata": {
    "vscode": {
     "languageId": "plaintext"
    }
   },
   "source": [
    "In this digitalized world today, laptops are one of the most demanding digital products. According to Grand View Research, the global laptop market was valued at $194.25 billion in 2022 and is expected to grow in the foreseeable future (Afzal, 2023). This market amount is created by laptops that vary in price on a significant range from less than two hundred to a few thousand dollars. However, the prices of laptops are surely not unpredictable. Here in this project, we answer the question: how can we predict the laptop market price by the appropriate determinants?\n",
    "\n",
    "This question is important because it helps customers to understand the factors behind the pricing of laptops which helps them to make reasonable decisions while choosing a laptop. Also, the result of this research benefits laptop producers and sellers in price-making strategies. This research lets laptop producers have a better picture of laptops with what types of features should be priced higher on the market. We try to approach this question by fitting a KNN regression model on the dataset “laptop 2024” (Kumar, 2024). The dataset that our research is based on is a public dataset on Kaggle uploaded by Aniket Kumar. It collects data from 991 unique laptops with 22 features. All information is updated to January 14, 2024."
   ]
  },
  {
   "cell_type": "markdown",
   "metadata": {},
   "source": [
    "## Methods & Results:"
   ]
  },
  {
   "cell_type": "markdown",
   "metadata": {},
   "source": [
    "### Data"
   ]
  },
  {
   "cell_type": "markdown",
   "metadata": {},
   "source": [
    "The data set we choose is a public available Kaggle dataset [Laptop Dataset(2024)](https://www.kaggle.com/datasets/aniket1505/laptop-dataset-2023). It has a collection of 991 unique laptops sourced from 'Smartprix' website. Each entry has 22 features including its price, name, brand, processor, RAM, etc. The lastest update of the dataset is on January 14, 2024. \n"
   ]
  },
  {
   "cell_type": "markdown",
   "metadata": {
    "vscode": {
     "languageId": "plaintext"
    }
   },
   "source": []
  },
  {
   "cell_type": "markdown",
   "metadata": {},
   "source": [
    "### Analysis"
   ]
  },
  {
   "cell_type": "markdown",
   "metadata": {},
   "source": [
    "### Research Project Methodology: Predicting Laptop Prices through Feature Analysis\n",
    "\n",
    "#### Objective\n",
    "\n",
    "The aim of this project is to develop a predictive model that can estimate the price of laptops based on various product features. Accurate estimation of the price is crucial for all laptop users, both for the professionals and amators, that are planning to buy new laptops, as well as for the sellers and the laptop mrket industry, as it helps identify potential importance of each of the feature and determine appropriate buying strategies. This model aims to serve various stakeholders in the laptop market, including potential buyers seeking to make informed purchasing decisions, sellers aiming to strategize their pricing, and industry analysts interested in understanding the impact of different laptop features on their market value. The research specifically seeks to identify the determinants of laptop prices, providing insights into which attributes significantly influence cost in the competitive laptop market.\n",
    "\n",
    "The dataset provided for this project consists of a large number of observations from both a training sample and a test sample. Each observation includes information such as the laptop's brand, model, price, rating, processor details, number of cores and threads, ram memory, primary storage type, capcity and many others. \n",
    "\n",
    "#### Dataset Overview\n",
    "\n",
    "The core of this research is based on a meticulously curated dataset titled [\"Laptop Dataset (2024)\"]((https://www.kaggle.com/datasets/aniket1505/laptop-dataset-2023?resource=download)) downloaded from Kaggle which encompasses a rich collection of 991 unique laptop entries extracted from the Smartprix website. This dataset has been carefully cleaned and updated as of January 14, 2024, ensuring its reliability for in-depth analysis. It features 22 distinct attributes for each laptop, including but not limited to:\n",
    "\n",
    "- **Brand and Model**: Identifying the manufacturer and specific model of the laptop.\n",
    "- **Price**: Listed in Indian Rupees, providing a direct measure of market value.\n",
    "- **Processor Specifications**: Including brand, tier, number of cores, and threads.\n",
    "- **Memory and Storage**: Details on RAM, primary and secondary storage types and capacities.\n",
    "- **GPU Details**: Information on the brand and type of graphics processing unit.\n",
    "- **Display Characteristics**: Screen size, resolution, and touch screen functionality.\n",
    "- **Operating System**: The installed OS.\n",
    "- **Warranty**: The duration of the manufacturer's warranty.\n",
    "\n",
    "#### Methodology\n",
    "\n",
    "To achieve the project's goal, the methodology will encompass several key stages:\n",
    "\n",
    "1. Initial steps of data preprocessing will include cleaning the data for inconsistencies, handling missing values, and encoding categorical variables to prepare the dataset for modeling.\n",
    "\n",
    "2. The stage of explanatory data analysis (EDA) involves examining the dataset to understand the distribution of key features, identify outliers, and uncover potential relationships between variables.\n",
    "\n",
    "3. Based on insights from EDA, new features may be engineered to better capture the influence of certain attributes on laptop prices. This could include interaction terms or derived features like performance-to-price ratios.\n",
    "\n",
    "4. A variety of machine learning models, including linear regression, decision trees, and ensemble methods like random forest and gradient boosting, will be evaluated to determine the most effective approach for price prediction. Model selection will be based on cross-validation performance metrics such as R-squared and mean squared error (MSE).\n",
    "\n",
    "5. The selected model will be rigorously tested using a hold-out test sample to assess its generalization ability and accuracy in predicting laptop prices. \n",
    "\n",
    "6. Once the model is finalized, an analysis of feature importance will be conducted to identify which laptop characteristics are most predictive of price. This will address the research question by highlighting the key determinants of laptop pricing.\n",
    "\n",
    "#### Expected Outcomes\n",
    "\n",
    "The culmination of this research project is anticipated to yield a robust model that can predict laptop prices with high accuracy, offering valuable insights into the factors that most significantly impact laptop market values. Through this analysis, stakeholders in the laptop industry will be better equipped to understand pricing dynamics, facilitating more informed decision-making processes for both consumers and sellers. Additionally, the project aims to contribute to the academic and practical understanding of price determination in technology markets, potentially guiding future research and development strategies within the laptop industry."
   ]
  },
  {
   "cell_type": "code",
   "execution_count": null,
   "metadata": {},
   "outputs": [],
   "source": []
  },
  {
   "cell_type": "markdown",
   "metadata": {},
   "source": [
    "## Discussion:"
   ]
  },
  {
   "cell_type": "markdown",
   "metadata": {
    "vscode": {
     "languageId": "plaintext"
    }
   },
   "source": [
    "### summarize findings\n"
   ]
  },
  {
   "cell_type": "markdown",
   "metadata": {},
   "source": []
  },
  {
   "cell_type": "markdown",
   "metadata": {},
   "source": [
    "### Impacts"
   ]
  },
  {
   "cell_type": "markdown",
   "metadata": {},
   "source": [
    "1. Strategic pricing: Given the basic information of a laptop, we could suggest pricing using our model. Companies can price their products competitively and maximize their profit margins.\n",
    "2. Product Design and development: Insights from our predictive model can guide product design by highlighting which features contribute most significantly to perceived value and price. It could help companies make design decisions on their future products.\n",
    "3. Consumer Decision-making: Help consumers make decisions based on our results. It can empower them to make more informed decisions, balancing their budget with their need and preferences.\n",
    "4. Market Trend: Industry observers can use our findings to identify trends in the laptop market"
   ]
  },
  {
   "cell_type": "markdown",
   "metadata": {},
   "source": [
    "### further studies"
   ]
  },
  {
   "cell_type": "markdown",
   "metadata": {},
   "source": [
    "1. Feature importance: We could try to answer the question: \"How has the importance of specific features in determining laptop prices changed over time?\" This analysis could reveal shifting technology trends and consumer preferences, providing foresight into future market developments.\n",
    "2. Region Market Difference: We could explore feature importance differences in regions. Exploring this could uncover opportunities for localized marketing strategies or product customization to meet regional demands.\n",
    "3. Impact of brand reputation: Explore the question: \"How does a brand's reputation or perceived quality affect laptop prices?\" Further research could quantify the brand effect and its interaction with product features in price setting.\n",
    "4. Different models: We only tried KNN model here, we could try more advanced predictive models in machine learning algorithms in the future to increase our accuracy and overall performance."
   ]
  },
  {
   "cell_type": "markdown",
   "metadata": {},
   "source": [
    "## References:"
   ]
  },
  {
   "cell_type": "markdown",
   "metadata": {},
   "source": [
    "Afzal, M. (2023, December 9). 15 best selling laptops in 2023. Yahoo! Finance. https://finance.yahoo.com/news/15-best-selling-laptops-2023-182017276.html?guccounter=1&guce_referrer=aHR0cHM6Ly93d3cuZ29vZ2xlLmNvbS8&guce_referrer_sig=AQAAADuqlSTbXMvnb1xhpvBsZ7W54qxGIf1JJ4TNTahMyewE-L9ZpqDiXgQVu1KGLwbA05RzhoL7kfU6WfRpfZUs3z2OYltBznbqwsn6jgoy6LUGJa9Z6TaugOmFPwr9ml_UlcH3tKS7xiJ1O_kLvAqFV7rcsdwOHQy0xv_jg4QACxHQ\n",
    "\n",
    "Kumar, A. (2024, February 10). Laptop dataset (2024). Kaggle. https://www.kaggle.com/datasets/aniket1505/laptop-dataset-2023 "
   ]
  },
  {
   "cell_type": "code",
   "execution_count": null,
   "metadata": {},
   "outputs": [],
   "source": []
  }
 ],
 "metadata": {
  "kernelspec": {
   "display_name": "Python 3 (ipykernel)",
   "language": "python",
   "name": "python3"
  },
  "language_info": {
   "codemirror_mode": {
    "name": "ipython",
    "version": 3
   },
   "file_extension": ".py",
   "mimetype": "text/x-python",
   "name": "python",
   "nbconvert_exporter": "python",
   "pygments_lexer": "ipython3",
   "version": "3.12.2"
  }
 },
 "nbformat": 4,
 "nbformat_minor": 4
}
